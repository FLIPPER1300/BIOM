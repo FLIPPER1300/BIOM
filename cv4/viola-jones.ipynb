{
 "cells": [
  {
   "cell_type": "code",
   "id": "initial_id",
   "metadata": {
    "collapsed": true,
    "ExecuteTime": {
     "end_time": "2025-03-13T13:03:27.391366Z",
     "start_time": "2025-03-13T13:02:22.038224Z"
    }
   },
   "source": [
    "import cv2\n",
    "\n",
    "# Načítanie predtrénovaného Haar Cascade klasifikátora na detekciu tváre\n",
    "face_cascade = cv2.CascadeClassifier(cv2.data.haarcascades + \"haarcascade_frontalface_default.xml\")\n",
    "\n",
    "def detect_faces(image):\n",
    "    \"\"\" Deteguje tváre v obrázku a vráti ho s nakreslenými rámčekmi. \"\"\"\n",
    "    gray = cv2.cvtColor(image, cv2.COLOR_BGR2GRAY)\n",
    "    faces = face_cascade.detectMultiScale(gray, scaleFactor=1.1, minNeighbors=5, minSize=(30, 30))\n",
    "\n",
    "    for (x, y, w, h) in faces:\n",
    "        cv2.rectangle(image, (x, y), (x + w, y + h), (0, 255, 0), 2)\n",
    "\n",
    "    return image\n",
    "\n",
    "# === 1. DETEKCIA Z OBRÁZKU ===\n",
    "image_path = \"360_F_498813253_1F67TUXp7RKXETW6ZdavRa3dzwsGNgEd.jpg\"  # Nahraď názvom svojho súboru\n",
    "image = cv2.imread(image_path)\n",
    "\n",
    "if image is not None:\n",
    "    detected_image = detect_faces(image)\n",
    "    cv2.imshow(\"Face Detection - Image\", detected_image)\n",
    "    cv2.waitKey(0)\n",
    "    cv2.destroyAllWindows()\n",
    "else:\n",
    "    print(\"❌ Nepodarilo sa načítať obrázok.\")\n",
    "\n",
    "# === 2. DETEKCIA Z KAMERY ===\n",
    "cap = cv2.VideoCapture(0)\n",
    "\n",
    "while True:\n",
    "    ret, frame = cap.read()\n",
    "    if not ret:\n",
    "        break\n",
    "\n",
    "    frame = detect_faces(frame)\n",
    "    cv2.imshow(\"Face Detection - Camera\", frame)\n",
    "\n",
    "    if cv2.waitKey(1) & 0xFF == ord(\"q\"):\n",
    "        break\n",
    "\n",
    "cap.release()\n",
    "cv2.destroyAllWindows()\n"
   ],
   "outputs": [],
   "execution_count": 4
  }
 ],
 "metadata": {
  "kernelspec": {
   "display_name": "Python 3",
   "language": "python",
   "name": "python3"
  },
  "language_info": {
   "codemirror_mode": {
    "name": "ipython",
    "version": 2
   },
   "file_extension": ".py",
   "mimetype": "text/x-python",
   "name": "python",
   "nbconvert_exporter": "python",
   "pygments_lexer": "ipython2",
   "version": "2.7.6"
  }
 },
 "nbformat": 4,
 "nbformat_minor": 5
}
